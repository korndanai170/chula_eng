{
  "nbformat": 4,
  "nbformat_minor": 0,
  "metadata": {
    "colab": {
      "provenance": [],
      "authorship_tag": "ABX9TyPGH04+9f1xZlRORe5q4Jpv",
      "include_colab_link": true
    },
    "kernelspec": {
      "name": "python3",
      "display_name": "Python 3"
    },
    "language_info": {
      "name": "python"
    }
  },
  "cells": [
    {
      "cell_type": "markdown",
      "metadata": {
        "id": "view-in-github",
        "colab_type": "text"
      },
      "source": [
        "<a href=\"https://colab.research.google.com/github/korndanai170/chula_eng/blob/main/thaicons_py.ipynb\" target=\"_parent\"><img src=\"https://colab.research.google.com/assets/colab-badge.svg\" alt=\"Open In Colab\"/></a>"
      ]
    },
    {
      "cell_type": "code",
      "source": [
        "import tkinter as tk\n",
        "import random\n",
        "\n",
        "# List of Thai consonants and their names\n",
        "thai_consonants = [\n",
        "    (\"ก\", \"gor kai\"), (\"ข\", \"khor khai\"), (\"ค\", \"khor khwai\"), (\"ง\", \"ngor ngu\"),\n",
        "    (\"จ\", \"jor jaan\"), (\"ฉ\", \"chor ching\"), (\"ช\", \"chor chang\"), (\"ซ\", \"sor soo\"),\n",
        "    (\"ญ\", \"yor ying\"), (\"ฐ\", \"thor than\"), (\"ณ\", \"nor nen\"), (\"ด\", \"dor dek\"),\n",
        "    (\"ต\", \"tor tao\"), (\"ถ\", \"thor thung\"), (\"ท\", \"thor thahan\"), (\"น\", \"nor nu\"),\n",
        "    (\"บ\", \"bor baimai\"), (\"ป\", \"por pla\"), (\"ผ\", \"phor phueng\"), (\"ฝ\", \"for fa\"),\n",
        "    (\"พ\", \"phor phan\"), (\"ฟ\", \"for fan\"), (\"ม\", \"mor ma\"), (\"ย\", \"yor yak\"),\n",
        "    (\"ร\", \"ror rua\"), (\"ล\", \"lor ling\"), (\"ว\", \"wor waen\"), (\"ศ\", \"sor sala\"),\n",
        "    (\"ส\", \"sor suea\"), (\"ห\", \"hor heeb\"), (\"ฬ\", \"lor jula\"), (\"อ\", \"or ang\"), (\"ฮ\", \"hor nokhuk\")\n",
        "]\n",
        "\n",
        "class FlashcardGame:\n",
        "    def __init__(self, root):\n",
        "        self.root = root\n",
        "        self.root.title(\"Thai Consonant Flashcard Game\")\n",
        "\n",
        "        self.card_frame = tk.Frame(root, width=300, height=200, bg=\"white\")\n",
        "        self.card_frame.pack(pady=50)\n",
        "\n",
        "        self.label = tk.Label(self.card_frame, text=\"\", font=(\"Arial\", 40), bg=\"white\")\n",
        "        self.label.pack(expand=True)\n",
        "\n",
        "        self.flip_button = tk.Button(root, text=\"Flip Card\", command=self.flip_card)\n",
        "        self.flip_button.pack(pady=20)\n",
        "\n",
        "        self.next_button = tk.Button(root, text=\"Next Card\", command=self.next_card)\n",
        "        self.next_button.pack()\n",
        "\n",
        "        self.is_flipped = False\n",
        "        self.current_card = None\n",
        "        self.next_card()\n",
        "\n",
        "    def next_card(self):\n",
        "        self.is_flipped = False\n",
        "        self.current_card = random.choice(thai_consonants)\n",
        "        self.label.config(text=self.current_card[0])\n",
        "\n",
        "    def flip_card(self):\n",
        "        if self.current_card:\n",
        "            if not self.is_flipped:\n",
        "                self.label.config(text=self.current_card[1])\n",
        "            else:\n",
        "                self.label.config(text=self.current_card[0])\n",
        "            self.is_flipped = not self.is_flipped\n",
        "\n",
        "if __name__ == \"__main__\":\n",
        "    root = tk.Tk()\n",
        "    game = FlashcardGame(root)\n",
        "    root.mainloop()\n"
      ],
      "metadata": {
        "id": "JIxZdr4tgu9n"
      },
      "execution_count": null,
      "outputs": []
    }
  ]
}